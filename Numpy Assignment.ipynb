{
 "cells": [
  {
   "cell_type": "markdown",
   "metadata": {},
   "source": [
    "1.Introduction\n",
    "This assignment will help you to consolidate the concepts learnt in the session.\n",
    "2.Problem Statement\n",
    "Problem Statement 1:\n",
    "Write a function so that the columns of the output matrix are powers of the input\n",
    "vector.\n",
    "The order of the powers is determined by the increasing boolean argument. Specifically, when\n",
    "increasing is False, the i-th output column is the input vector raised element-wise to the power\n",
    "of N - i - 1.\n",
    "HINT: Such a matrix with a geometric progression in each row is named for AlexandreTheophile Vandermonde.\n",
    "Problem Statement 2:\n",
    "Given a sequence of n values x1, x2, ..., xn and a window size k>0, the k-th moving average of\n",
    "the given sequence is defined as follows:\n",
    "The moving average sequence has n-k+1 elements as shown below.\n",
    "The moving averages with k=4 of a ten-value sequence (n=10) is shown below\n",
    "i 1 2 3 4 5 6 7 8 9 10\n",
    "===== == == == == == == == == == ==\n",
    "Input 10 20 30 40 50 60 70 80 90 100\n",
    "y1 25 = (10+20+30+40)/4\n",
    "y2 35 = (20+30+40+50)/4\n",
    "y3 45 = (30+40+50+60)/4\n",
    "y4 55 = (40+50+60+70)/4\n",
    "y5 65 = (50+60+70+80)/4\n",
    "y6 75 = (60+70+80+90)/4\n",
    "y7 85 = (70+80+90+100)/4\n",
    "Thus, the moving average sequence has n-k+1=10-4+1=7 values.\n",
    "Question: Write a function to find moving average in an array over a window:\n",
    " Test it over [3, 5, 7, 2, 8, 10, 11, 65, 72, 81, 99, 100, 150] and window of 3.\n",
    "Note: Solution submitted via github must contain all the detailed steps.\n",
    "3.Output\n",
    "This assignment consists of 200 marks and needs to be submitted in the upcoming session for\n",
    "evaluation."
   ]
  },
  {
   "cell_type": "code",
   "execution_count": 1,
   "metadata": {},
   "outputs": [
    {
     "name": "stdout",
     "output_type": "stream",
     "text": [
      "[[  1   1   1   1   1]\n",
      " [ 16   8   4   2   1]\n",
      " [ 81  27   9   3   1]\n",
      " [256  64  16   4   1]\n",
      " [625 125  25   5   1]]\n"
     ]
    }
   ],
   "source": [
    "import numpy as np\n",
    "x= np.array([1,2,3,4,5])\n",
    "N=5\n",
    "matrix=np.column_stack([x**(N-i-1) for i in range(N)])\n",
    "print(matrix)"
   ]
  },
  {
   "cell_type": "code",
   "execution_count": 2,
   "metadata": {},
   "outputs": [
    {
     "name": "stdout",
     "output_type": "stream",
     "text": [
      "[[  1   1   1   1   1]\n",
      " [ 16   8   4   2   1]\n",
      " [ 81  27   9   3   1]\n",
      " [256  64  16   4   1]\n",
      " [625 125  25   5   1]]\n"
     ]
    }
   ],
   "source": [
    "import numpy as np\n",
    "x = np.array([1,2,3,4,5])\n",
    "N=5\n",
    "matrix_1=np.vander(x,N,increasing=False)\n",
    "print(matrix_1)"
   ]
  },
  {
   "cell_type": "markdown",
   "metadata": {},
   "source": [
    "Write a function to find moving average in an array over a window:\n",
    " Test it over [3, 5, 7, 2, 8, 10, 11, 65, 72, 81, 99, 100, 150] and window of 3."
   ]
  },
  {
   "cell_type": "code",
   "execution_count": 9,
   "metadata": {},
   "outputs": [
    {
     "data": {
      "text/plain": [
       "array([[    9,     3,     1],\n",
       "       [   25,     5,     1],\n",
       "       [   49,     7,     1],\n",
       "       [    4,     2,     1],\n",
       "       [   64,     8,     1],\n",
       "       [  100,    10,     1],\n",
       "       [  121,    11,     1],\n",
       "       [ 4225,    65,     1],\n",
       "       [ 5184,    72,     1],\n",
       "       [ 6561,    81,     1],\n",
       "       [ 9801,    99,     1],\n",
       "       [10000,   100,     1],\n",
       "       [22500,   150,     1]], dtype=int32)"
      ]
     },
     "execution_count": 9,
     "metadata": {},
     "output_type": "execute_result"
    }
   ],
   "source": [
    "import numpy as np\n",
    "x= np.array( [3, 5, 7, 2, 8, 10, 11, 65, 72, 81, 99, 100, 150])\n",
    "N=3\n",
    "Final=np.column_stack([x**(N-i-1) for i in range(N)])\n",
    "Final"
   ]
  },
  {
   "cell_type": "code",
   "execution_count": null,
   "metadata": {},
   "outputs": [],
   "source": []
  },
  {
   "cell_type": "code",
   "execution_count": null,
   "metadata": {},
   "outputs": [],
   "source": []
  }
 ],
 "metadata": {
  "kernelspec": {
   "display_name": "Python 3",
   "language": "python",
   "name": "python3"
  },
  "language_info": {
   "codemirror_mode": {
    "name": "ipython",
    "version": 3
   },
   "file_extension": ".py",
   "mimetype": "text/x-python",
   "name": "python",
   "nbconvert_exporter": "python",
   "pygments_lexer": "ipython3",
   "version": "3.7.4"
  }
 },
 "nbformat": 4,
 "nbformat_minor": 2
}
